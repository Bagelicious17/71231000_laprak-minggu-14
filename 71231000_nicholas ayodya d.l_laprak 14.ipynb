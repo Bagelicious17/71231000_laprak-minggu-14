{
 "cells": [
  {
   "cell_type": "code",
   "execution_count": 44,
   "metadata": {},
   "outputs": [
    {
     "name": "stdout",
     "output_type": "stream",
     "text": [
      "1945-08-17 00:00:00 selisih 28777 hari\n",
      "1785-11-11 00:00:00 selisih 87129 hari\n",
      "1783-06-08 00:00:00 selisih 88016 hari\n",
      "1889-05-02 00:00:00 selisih 49337 hari\n"
     ]
    }
   ],
   "source": [
    "import re\n",
    "from datetime import datetime\n",
    "\n",
    "teks = \"\"\"\n",
    "Pada tanggal 1945-08-17 Indonesia merdeka. Indonesia memiliki beberapa pahlawan\n",
    "nasional, seperti Pangeran Diponegoro (TL: 1785-11-11), Pattimura (TL: 1783-06-08) dan Ki\n",
    "Hajar Dewantara (1889-05-02).\n",
    "\"\"\"\n",
    "awal = re.findall(r'\\b(\\d{4})-(\\d{2})-(\\d{2})\\b', teks)\n",
    "saiki = datetime.now()\n",
    "\n",
    "for x, y, z in awal:\n",
    "    awal = datetime(int(x), int(y), int(z))\n",
    "    awal.strftime('%d-%m-%Y')\n",
    "    selisih = (saiki - awal).days\n",
    "    print(f\"{awal} selisih {selisih} hari\")"
   ]
  },
  {
   "cell_type": "code",
   "execution_count": 40,
   "metadata": {},
   "outputs": [
    {
     "name": "stdout",
     "output_type": "stream",
     "text": [
      "anton@mail.com username: anton ,password:beV3YG99N3C3569j\n",
      "budi@gmail.co.id username: budi ,password:e3G6jN39b9953VYC\n",
      "slamet@getnada.com username: slamet ,password:6j3eY539CbN93V9G\n",
      "matahari@tokopedia.com username: matahari ,password:5V3C9jG6eN9bY339\n"
     ]
    }
   ],
   "source": [
    "import random\n",
    "import re\n",
    "\n",
    "num=['0','1','2','3','4','5','6','7','8',\"9\"]\n",
    "alph=[\"a\",\"b\",\"c\",\"d\",\"e\",\"f\",\"g\",\"h\",\"i\",\"j\",\"k\",\"l\",\"m\",\"n\",\"o\",\"p\",\"q\",\"r\",\"s\",\"t\",\"u\",\"v\",\"w\",\"x\",\"y\",\"z\",\"A\",\"B\",\"C\",\"D\",\"E\",\"F\",\"G\",\"H\",\"I\",\"J\",\"K\",\"L\",\"M\",\"N\",\"O\",\"P\",\"Q\",\"R\",\"S\",\"T\",\"U\",\"V\",\"W\",\"X\",\"Y\",\"Z\"]\n",
    "passw=[]\n",
    "teks='''anton@mail.com dimiliki oleh antonius\n",
    "budi@gmail.co.id dimiliki oleh budi anwari\n",
    "slamet@getnada.com dimiliki oleh slamet slumut\n",
    "matahari@tokopedia.com dimiliki oleh toko matahari'''\n",
    "\n",
    "email=re.findall(r'\\b[\\w]+@[\\w.-]+\\.[\\w]{2,}\\b',teks)\n",
    "name=re.findall(r'\\b[\\w]+@',teks)\n",
    "username=[]\n",
    "for j in name:\n",
    "    username.append(j.split('@')[0])\n",
    "for i in range(8):\n",
    "    passw.append(random.choice(num))\n",
    "    passw.append(random.choice(alph))\n",
    "\n",
    "for i in email:\n",
    "    final=\"\"\n",
    "    random.shuffle(passw)\n",
    "    for j in passw:\n",
    "        final+=j\n",
    "    print(f\"{i} username: {username[email.index(i)]} ,password:{final}\")\n"
   ]
  }
 ],
 "metadata": {
  "kernelspec": {
   "display_name": "Python 3",
   "language": "python",
   "name": "python3"
  },
  "language_info": {
   "codemirror_mode": {
    "name": "ipython",
    "version": 3
   },
   "file_extension": ".py",
   "mimetype": "text/x-python",
   "name": "python",
   "nbconvert_exporter": "python",
   "pygments_lexer": "ipython3",
   "version": "3.12.2"
  }
 },
 "nbformat": 4,
 "nbformat_minor": 2
}
